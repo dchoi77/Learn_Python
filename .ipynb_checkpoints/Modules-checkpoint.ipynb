{
 "cells": [
  {
   "cell_type": "markdown",
   "metadata": {},
   "source": [
    "# Beautiful Soup\n",
    "\n",
    "Beautiful Soup is a Python library for pulling data out of HTML and XML files.\n",
    "\n",
    "https://www.crummy.com/software/BeautifulSoup/bs4/doc/\n",
    "\n",
    "```python\n",
    "# doc is a given html document.\n",
    "from bs4 import BeautifulSoup\n",
    "soup = BeautifulSoup(doc, 'html.parser')      # This class defines the basic interface called by the tree builders.\n",
    "\n",
    "soup.title, soup.title.name, soup.title.string, soup.title.parent.name\n",
    "soup.p, soup.p.append(\"...\")\n",
    "soup.a\n",
    "soup.find_all('a')                # find all anchors\n",
    "soup.original_encoding, soup.encode(formatter=\"html\")\n",
    "```"
   ]
  },
  {
   "cell_type": "markdown",
   "metadata": {},
   "source": [
    "# Bisect\n",
    "\n",
    "```python\n",
    "import bisect\n",
    "c = [1, 3, 3, 5, 9, 10]\t  # c should be sorted\n",
    "\n",
    "bisect.bisect(c, 4)       # 3; the location where 4 should be inserted to keep it sorted\n",
    "\n",
    "bisect.insort(c, 8)       # inserts 8 into the list to keep it sorted\n",
    "c                         # [1, 3, 3, 5, 8, 9, 10]\n",
    "```"
   ]
  },
  {
   "cell_type": "markdown",
   "metadata": {},
   "source": [
    "# Calendar\n",
    "\n",
    "```python\n",
    "import calendar\n",
    "\n",
    "# Create Calendar objects:\n",
    "canendar.Calendar()\n",
    "calendar.TextCalendar()\n",
    "calendar.HTMLCalendar()\n",
    "\n",
    "# General calendar attributes:\n",
    "calendar.firstweekday()\n",
    "calendar.isleap(year)\n",
    "calendar.weekday(year, month, day)\n",
    "calendar.month_name\n",
    "calendar.day_name\n",
    "```"
   ]
  },
  {
   "cell_type": "markdown",
   "metadata": {},
   "source": [
    "# Collections\n",
    "\n",
    "## defaultdict\n",
    "\n",
    "```python\n",
    "from collections import defaultdict\n",
    "words = ['apple','banana','altitude','brown','cat','bowl']\n",
    "dic = defaultdict(list)\n",
    "for w in words: dic[w[0]].append(w)\n",
    "    \n",
    "w\n",
    "defaultdict(list,\n",
    "            {'a': ['apple', 'altitude'],\n",
    "             'b': ['banana', 'brown', 'bowl'],\n",
    "             'c': ['cat']})\n",
    "```\n",
    "\n",
    "\n",
    "## Counter\n",
    "\n",
    "```python\n",
    "from collections import Counter\n",
    "\n",
    "c = Counter('cbcdcdaa')\n",
    "c                      # Counter({'c': 3, 'b': 1, 'd': 2, 'a': 2})\n",
    "c.most_common(1)       # [('c', 3)]\n",
    "list(c.elements())     # ['c', 'c', 'c', 'b', 'd', 'd', 'a', 'a'] \n",
    "```\n",
    "\n",
    "## OrderedDict"
   ]
  },
  {
   "cell_type": "markdown",
   "metadata": {},
   "source": [
    "# glob\n",
    "\n",
    "glob.glob() returns a list of paths matching a pathname pattern.\n",
    "\n",
    "```python\n",
    "import glob\n",
    "\n",
    "data_list = [] \n",
    "\n",
    "for filename in glob.glob('data/*.csv'): \n",
    "\tdata_list.append(pd.read_csv(filename)) \n",
    "```"
   ]
  },
  {
   "cell_type": "markdown",
   "metadata": {},
   "source": [
    "# Functools\n",
    "\n",
    "## partial\n",
    "```python\n",
    "\n",
    "from functools import partial\n",
    "\n",
    "def my_func(x, y): \n",
    "    ...\n",
    "\n",
    "g = partial(my_func, 2)        # g(y) is my_func(2, y)\n",
    "```"
   ]
  },
  {
   "cell_type": "markdown",
   "metadata": {},
   "source": [
    "# itertools\n",
    "\n",
    "## groupby(), combinations(), permutations(), product()\n",
    "\n",
    "groupby(iterable, key) groups consecutive elements in iterable by key.\n",
    "\n",
    "```python\n",
    "import itertools\n",
    "\n",
    "words = ['apple','altitude','banana','brown','cat','bowl']\n",
    "\n",
    "for letter, values in itertools.groupby(words, lambda x: x[0]):\n",
    "\tprint(letter, list(values))\n",
    "    \n",
    "a ['apple', 'altitude']\n",
    "b ['banana', 'brown']\n",
    "c ['cat']\n",
    "b ['bowl']\n",
    "\n",
    "\n",
    "for pair in itertools.combinations(words, 2):\n",
    "    print(pair)\n",
    "\n",
    "('apple', 'altitude')\n",
    "('apple', 'banana')\n",
    "('apple', 'brown')\n",
    "...\n",
    "('brown', 'cat')\n",
    "('brown', 'bowl')\n",
    "('cat', 'bowl')\n",
    "\n",
    "# itertools.combinations(words, 2) has 15 pairs.\n",
    "# itertools.permutations(words, 2) has 30 pairs.\n",
    "\n",
    "for pair in itertools.product(words, [1,2,3]):       # 18 pairs\n",
    "    print(pair)\n",
    "('apple', 1)\n",
    "('apple', 2)\n",
    "('apple', 3)\n",
    "('altitude', 1)\n",
    "...\n",
    "```\n"
   ]
  },
  {
   "cell_type": "markdown",
   "metadata": {},
   "source": [
    "# Pickle\n",
    "\n",
    "pickle creates portable serialized representations of Python objects.\n",
    "\n",
    "```python\n",
    "import pickle\n",
    "\n",
    "pickle.dump(an_object, file_name) \n",
    "pickle.load(file_name)\n",
    "```"
   ]
  },
  {
   "cell_type": "markdown",
   "metadata": {},
   "source": [
    "# urlextract\n",
    "\n",
    "```python\n",
    "import urlextract\n",
    "\n",
    "url_extractor = urlextract.URLExtract()\n",
    "url_extractor.find_urls(\"Go to https://www.wikipedia.org/ or https://www.encyclopedia.com/ for more info.\")\n",
    "\n",
    "['https://www.wikipedia.org/', 'https://www.encyclopedia.com/']\n",
    "```"
   ]
  }
 ],
 "metadata": {
  "kernelspec": {
   "display_name": "Python 3",
   "language": "python",
   "name": "python3"
  },
  "language_info": {
   "codemirror_mode": {
    "name": "ipython",
    "version": 3
   },
   "file_extension": ".py",
   "mimetype": "text/x-python",
   "name": "python",
   "nbconvert_exporter": "python",
   "pygments_lexer": "ipython3",
   "version": "3.7.5"
  }
 },
 "nbformat": 4,
 "nbformat_minor": 2
}
